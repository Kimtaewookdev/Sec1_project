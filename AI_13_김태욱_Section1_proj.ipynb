{
  "nbformat": 4,
  "nbformat_minor": 0,
  "metadata": {
    "colab": {
      "name": "AI_13_김태욱_Section1_proj.ipynb",
      "provenance": [],
      "collapsed_sections": [
        "jV3iz0zRChhZ",
        "4l8N_VTdBfF-"
      ]
    },
    "kernelspec": {
      "name": "python3",
      "display_name": "Python 3"
    },
    "language_info": {
      "name": "python"
    }
  },
  "cells": [
    {
      "cell_type": "markdown",
      "source": [
        "# 다음 분기 게임 설계\n"
      ],
      "metadata": {
        "id": "OeZxWDqPBac8"
      }
    },
    {
      "cell_type": "code",
      "source": [
        "import pandas as pd"
      ],
      "metadata": {
        "id": "egZ13DYshUNn"
      },
      "execution_count": 103,
      "outputs": []
    },
    {
      "cell_type": "markdown",
      "source": [
        "### 데이터 전처리"
      ],
      "metadata": {
        "id": "jV3iz0zRChhZ"
      }
    },
    {
      "cell_type": "code",
      "execution_count": 48,
      "metadata": {
        "colab": {
          "base_uri": "https://localhost:8080/"
        },
        "id": "Wk0kKd1Cgy5-",
        "outputId": "6d85e2cd-b205-4859-eba8-98c6d0308180"
      },
      "outputs": [
        {
          "output_type": "stream",
          "name": "stdout",
          "text": [
            "<class 'pandas.core.frame.DataFrame'>\n",
            "Int64Index: 16598 entries, 1 to 16598\n",
            "Data columns (total 9 columns):\n",
            " #   Column       Non-Null Count  Dtype  \n",
            "---  ------       --------------  -----  \n",
            " 0   Name         16598 non-null  object \n",
            " 1   Platform     16598 non-null  object \n",
            " 2   Year         16327 non-null  float64\n",
            " 3   Genre        16548 non-null  object \n",
            " 4   Publisher    16540 non-null  object \n",
            " 5   NA_Sales     16598 non-null  object \n",
            " 6   EU_Sales     16598 non-null  object \n",
            " 7   JP_Sales     16598 non-null  object \n",
            " 8   Other_Sales  16598 non-null  object \n",
            "dtypes: float64(1), object(8)\n",
            "memory usage: 1.3+ MB\n"
          ]
        }
      ],
      "source": [
        "data_url = 'https://ds-lecture-data.s3.ap-northeast-2.amazonaws.com/datasets/vgames2.csv'\n",
        "data = pd.read_csv(data_url, index_col=0)\n",
        "\n",
        "df = pd.DataFrame(data)\n",
        "df.info()\n",
        "# 'Year', 'Genre', 'Publisher'에 결측치 확인"
      ]
    },
    {
      "cell_type": "code",
      "source": [
        "# 출고량 단위는 표기되어있지않으나 M(백만 장)으로 추측\n",
        "# 출고량 데이터 중 단위 M이 남아있거나 K(천 장)이 표기된 것 있음\n",
        "# M은 제거하고 K는 0.001을 곱해 M으로 환산\n",
        "\n",
        "for col in df.columns[-4:]:\n",
        "  df[col] = df[col].replace({\"K\":\"*1e-3\", \"M\":\"\"}, regex=True).apply(pd.eval)\n",
        "\n",
        "df.info()"
      ],
      "metadata": {
        "colab": {
          "base_uri": "https://localhost:8080/"
        },
        "id": "Hxc0pykmPFAd",
        "outputId": "9b38fc02-8f8f-41b8-da6e-0e3ee563963e"
      },
      "execution_count": 49,
      "outputs": [
        {
          "output_type": "stream",
          "name": "stdout",
          "text": [
            "<class 'pandas.core.frame.DataFrame'>\n",
            "Int64Index: 16598 entries, 1 to 16598\n",
            "Data columns (total 9 columns):\n",
            " #   Column       Non-Null Count  Dtype  \n",
            "---  ------       --------------  -----  \n",
            " 0   Name         16598 non-null  object \n",
            " 1   Platform     16598 non-null  object \n",
            " 2   Year         16327 non-null  float64\n",
            " 3   Genre        16548 non-null  object \n",
            " 4   Publisher    16540 non-null  object \n",
            " 5   NA_Sales     16598 non-null  float64\n",
            " 6   EU_Sales     16598 non-null  float64\n",
            " 7   JP_Sales     16598 non-null  float64\n",
            " 8   Other_Sales  16598 non-null  float64\n",
            "dtypes: float64(5), object(4)\n",
            "memory usage: 1.3+ MB\n"
          ]
        }
      ]
    },
    {
      "cell_type": "markdown",
      "source": [
        "### 지역에 따라서 선호하는 게임 장르 분석"
      ],
      "metadata": {
        "id": "4l8N_VTdBfF-"
      }
    },
    {
      "cell_type": "code",
      "source": [
        "## 장르 결측치 제거\n",
        "\n",
        "df_g = df.dropna(subset = ['Genre'])\n",
        "sales = df.columns[-4:]\n",
        "col_g = sales.insert(0, 'Genre')\n",
        "\n",
        "def get_top3(df):\n",
        "  for col in df.columns:\n",
        "    print(col)\n",
        "    print(df[col].sort_values(ascending=False).head(3))\n",
        "\n",
        "# 각 지역의 장르별 시장 비중\n",
        "df_g_sum = df_g[col_g].groupby('Genre').sum()\n",
        "df_g_sum_per = (df_g_sum * 100 / df_g_sum.sum()).round(3)\n",
        "\n",
        "get_top3(df_g_sum_per)"
      ],
      "metadata": {
        "colab": {
          "base_uri": "https://localhost:8080/"
        },
        "id": "uYn100jHm_di",
        "outputId": "39831b72-e169-4959-cdc2-3556a36e584a"
      },
      "execution_count": 104,
      "outputs": [
        {
          "output_type": "stream",
          "name": "stdout",
          "text": [
            "NA_Sales\n",
            "Genre\n",
            "Action     20.008\n",
            "Sports     15.564\n",
            "Shooter    13.309\n",
            "Name: NA_Sales, dtype: float64\n",
            "EU_Sales\n",
            "Genre\n",
            "Action     21.568\n",
            "Sports     15.551\n",
            "Shooter    12.931\n",
            "Name: EU_Sales, dtype: float64\n",
            "JP_Sales\n",
            "Genre\n",
            "Role-Playing    26.988\n",
            "Action          12.354\n",
            "Sports          10.591\n",
            "Name: JP_Sales, dtype: float64\n",
            "Other_Sales\n",
            "Genre\n",
            "Action     23.535\n",
            "Sports     16.999\n",
            "Shooter    12.957\n",
            "Name: Other_Sales, dtype: float64\n"
          ]
        }
      ]
    },
    {
      "cell_type": "code",
      "source": [
        "#각 지역의 장르별 평균 출고량\n",
        "df_g_mean = df_g[col_g].groupby('Genre').mean().round(3)\n",
        "df_g_mean\n",
        "\n",
        "get_top3(df_g_mean)"
      ],
      "metadata": {
        "colab": {
          "base_uri": "https://localhost:8080/"
        },
        "id": "K-r7IVmgAMco",
        "outputId": "019942b9-6eb9-4048-b72c-95895baf5a43"
      },
      "execution_count": 105,
      "outputs": [
        {
          "output_type": "stream",
          "name": "stdout",
          "text": [
            "NA_Sales\n",
            "Genre\n",
            "Platform    0.505\n",
            "Shooter     0.445\n",
            "Sports      0.291\n",
            "Name: NA_Sales, dtype: float64\n",
            "EU_Sales\n",
            "Genre\n",
            "Shooter     0.239\n",
            "Platform    0.228\n",
            "Racing      0.191\n",
            "Name: EU_Sales, dtype: float64\n",
            "JP_Sales\n",
            "Genre\n",
            "Role-Playing    0.233\n",
            "Platform        0.148\n",
            "Fighting        0.103\n",
            "Name: JP_Sales, dtype: float64\n",
            "Other_Sales\n",
            "Genre\n",
            "Shooter     0.078\n",
            "Racing      0.062\n",
            "Platform    0.058\n",
            "Name: Other_Sales, dtype: float64\n"
          ]
        }
      ]
    },
    {
      "cell_type": "markdown",
      "source": [
        "### 연도별 게임의 트렌드 분석"
      ],
      "metadata": {
        "id": "ZmclDClcCJYQ"
      }
    },
    {
      "cell_type": "markdown",
      "source": [
        "다음 분기 게임 설계\n",
        "\n",
        "지역에 따라서 선호하는 게임 장르가 다를까 라는 질문에 대답을 하셔야합니다.\n",
        "\n",
        "연도별 게임의 트렌드가 있을까 라는 질문에 대답을 하셔야합니다.\n",
        "\n",
        "출고량이 높은 게임에 대한 분석 및 시각화 프로세스가 포함되어야 합니다.\n",
        "\n",
        "개인적인 분석 목표, 질문"
      ],
      "metadata": {
        "id": "bhT3adSjlDC9"
      }
    }
  ]
}